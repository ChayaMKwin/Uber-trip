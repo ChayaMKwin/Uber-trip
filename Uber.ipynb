{
  "metadata": {
    "kernelspec": {
      "name": "python",
      "display_name": "Python (Pyodide)",
      "language": "python"
    },
    "language_info": {
      "codemirror_mode": {
        "name": "python",
        "version": 3
      },
      "file_extension": ".py",
      "mimetype": "text/x-python",
      "name": "python",
      "nbconvert_exporter": "python",
      "pygments_lexer": "ipython3",
      "version": "3.8"
    }
  },
  "nbformat_minor": 4,
  "nbformat": 4,
  "cells": [
    {
      "cell_type": "code",
      "source": "import pandas as pd\ndf = pd.read_csv(\"uberdata.csv\")\ndf.head()",
      "metadata": {
        "trusted": true,
        "scrolled": true
      },
      "outputs": [
        {
          "execution_count": 18,
          "output_type": "execute_result",
          "data": {
            "text/plain": "   VendorID tpep_pickup_datetime tpep_dropoff_datetime  passenger_count  \\\n0         1  2016-03-01 00:00:00   2016-03-01 00:07:55                1   \n1         1  2016-03-01 00:00:00   2016-03-01 00:11:06                1   \n2         2  2016-03-01 00:00:00   2016-03-01 00:31:06                2   \n3         2  2016-03-01 00:00:00   2016-03-01 00:00:00                3   \n4         2  2016-03-01 00:00:00   2016-03-01 00:00:00                5   \n\n   trip_distance  pickup_longitude  pickup_latitude  RatecodeID  \\\n0           2.50        -73.976746        40.765152           1   \n1           2.90        -73.983482        40.767925           1   \n2          19.98        -73.782021        40.644810           1   \n3          10.78        -73.863419        40.769814           1   \n4          30.43        -73.971741        40.792183           3   \n\n  store_and_fwd_flag  dropoff_longitude  dropoff_latitude  payment_type  \\\n0                  N         -74.004265         40.746128             1   \n1                  N         -74.005943         40.733166             1   \n2                  N         -73.974541         40.675770             1   \n3                  N         -73.969650         40.757767             1   \n4                  N         -74.177170         40.695053             1   \n\n   fare_amount  extra  mta_tax  tip_amount  tolls_amount  \\\n0          9.0    0.5      0.5        2.05          0.00   \n1         11.0    0.5      0.5        3.05          0.00   \n2         54.5    0.5      0.5        8.00          0.00   \n3         31.5    0.0      0.5        3.78          5.54   \n4         98.0    0.0      0.0        0.00         15.50   \n\n   improvement_surcharge  total_amount  \n0                    0.3         12.35  \n1                    0.3         15.35  \n2                    0.3         63.80  \n3                    0.3         41.62  \n4                    0.3        113.80  ",
            "text/html": "<div>\n<style scoped>\n    .dataframe tbody tr th:only-of-type {\n        vertical-align: middle;\n    }\n\n    .dataframe tbody tr th {\n        vertical-align: top;\n    }\n\n    .dataframe thead th {\n        text-align: right;\n    }\n</style>\n<table border=\"1\" class=\"dataframe\">\n  <thead>\n    <tr style=\"text-align: right;\">\n      <th></th>\n      <th>VendorID</th>\n      <th>tpep_pickup_datetime</th>\n      <th>tpep_dropoff_datetime</th>\n      <th>passenger_count</th>\n      <th>trip_distance</th>\n      <th>pickup_longitude</th>\n      <th>pickup_latitude</th>\n      <th>RatecodeID</th>\n      <th>store_and_fwd_flag</th>\n      <th>dropoff_longitude</th>\n      <th>dropoff_latitude</th>\n      <th>payment_type</th>\n      <th>fare_amount</th>\n      <th>extra</th>\n      <th>mta_tax</th>\n      <th>tip_amount</th>\n      <th>tolls_amount</th>\n      <th>improvement_surcharge</th>\n      <th>total_amount</th>\n    </tr>\n  </thead>\n  <tbody>\n    <tr>\n      <th>0</th>\n      <td>1</td>\n      <td>2016-03-01 00:00:00</td>\n      <td>2016-03-01 00:07:55</td>\n      <td>1</td>\n      <td>2.50</td>\n      <td>-73.976746</td>\n      <td>40.765152</td>\n      <td>1</td>\n      <td>N</td>\n      <td>-74.004265</td>\n      <td>40.746128</td>\n      <td>1</td>\n      <td>9.0</td>\n      <td>0.5</td>\n      <td>0.5</td>\n      <td>2.05</td>\n      <td>0.00</td>\n      <td>0.3</td>\n      <td>12.35</td>\n    </tr>\n    <tr>\n      <th>1</th>\n      <td>1</td>\n      <td>2016-03-01 00:00:00</td>\n      <td>2016-03-01 00:11:06</td>\n      <td>1</td>\n      <td>2.90</td>\n      <td>-73.983482</td>\n      <td>40.767925</td>\n      <td>1</td>\n      <td>N</td>\n      <td>-74.005943</td>\n      <td>40.733166</td>\n      <td>1</td>\n      <td>11.0</td>\n      <td>0.5</td>\n      <td>0.5</td>\n      <td>3.05</td>\n      <td>0.00</td>\n      <td>0.3</td>\n      <td>15.35</td>\n    </tr>\n    <tr>\n      <th>2</th>\n      <td>2</td>\n      <td>2016-03-01 00:00:00</td>\n      <td>2016-03-01 00:31:06</td>\n      <td>2</td>\n      <td>19.98</td>\n      <td>-73.782021</td>\n      <td>40.644810</td>\n      <td>1</td>\n      <td>N</td>\n      <td>-73.974541</td>\n      <td>40.675770</td>\n      <td>1</td>\n      <td>54.5</td>\n      <td>0.5</td>\n      <td>0.5</td>\n      <td>8.00</td>\n      <td>0.00</td>\n      <td>0.3</td>\n      <td>63.80</td>\n    </tr>\n    <tr>\n      <th>3</th>\n      <td>2</td>\n      <td>2016-03-01 00:00:00</td>\n      <td>2016-03-01 00:00:00</td>\n      <td>3</td>\n      <td>10.78</td>\n      <td>-73.863419</td>\n      <td>40.769814</td>\n      <td>1</td>\n      <td>N</td>\n      <td>-73.969650</td>\n      <td>40.757767</td>\n      <td>1</td>\n      <td>31.5</td>\n      <td>0.0</td>\n      <td>0.5</td>\n      <td>3.78</td>\n      <td>5.54</td>\n      <td>0.3</td>\n      <td>41.62</td>\n    </tr>\n    <tr>\n      <th>4</th>\n      <td>2</td>\n      <td>2016-03-01 00:00:00</td>\n      <td>2016-03-01 00:00:00</td>\n      <td>5</td>\n      <td>30.43</td>\n      <td>-73.971741</td>\n      <td>40.792183</td>\n      <td>3</td>\n      <td>N</td>\n      <td>-74.177170</td>\n      <td>40.695053</td>\n      <td>1</td>\n      <td>98.0</td>\n      <td>0.0</td>\n      <td>0.0</td>\n      <td>0.00</td>\n      <td>15.50</td>\n      <td>0.3</td>\n      <td>113.80</td>\n    </tr>\n  </tbody>\n</table>\n</div>"
          },
          "metadata": {}
        }
      ],
      "execution_count": 18
    },
    {
      "cell_type": "code",
      "source": "df.info()\n",
      "metadata": {
        "trusted": true
      },
      "outputs": [
        {
          "name": "stdout",
          "text": "<class 'pandas.core.frame.DataFrame'>\nRangeIndex: 100000 entries, 0 to 99999\nData columns (total 19 columns):\n #   Column                 Non-Null Count   Dtype  \n---  ------                 --------------   -----  \n 0   VendorID               100000 non-null  int64  \n 1   tpep_pickup_datetime   100000 non-null  object \n 2   tpep_dropoff_datetime  100000 non-null  object \n 3   passenger_count        100000 non-null  int64  \n 4   trip_distance          100000 non-null  float64\n 5   pickup_longitude       100000 non-null  float64\n 6   pickup_latitude        100000 non-null  float64\n 7   RatecodeID             100000 non-null  int64  \n 8   store_and_fwd_flag     100000 non-null  object \n 9   dropoff_longitude      100000 non-null  float64\n 10  dropoff_latitude       100000 non-null  float64\n 11  payment_type           100000 non-null  int64  \n 12  fare_amount            100000 non-null  float64\n 13  extra                  100000 non-null  float64\n 14  mta_tax                100000 non-null  float64\n 15  tip_amount             100000 non-null  float64\n 16  tolls_amount           100000 non-null  float64\n 17  improvement_surcharge  100000 non-null  float64\n 18  total_amount           100000 non-null  float64\ndtypes: float64(12), int64(4), object(3)\nmemory usage: 13.4+ MB\n",
          "output_type": "stream"
        }
      ],
      "execution_count": 3
    },
    {
      "cell_type": "code",
      "source": "df['tpep_pickup_datetime'] = pd.to_datetime(df['tpep_pickup_datetime'])\ndf['tpep_dropoff_datetime'] = pd.to_datetime(df['tpep_dropoff_datetime'])",
      "metadata": {
        "trusted": true
      },
      "outputs": [],
      "execution_count": 4
    },
    {
      "cell_type": "code",
      "source": "df.info()\n",
      "metadata": {
        "trusted": true
      },
      "outputs": [
        {
          "name": "stdout",
          "text": "<class 'pandas.core.frame.DataFrame'>\nRangeIndex: 100000 entries, 0 to 99999\nData columns (total 19 columns):\n #   Column                 Non-Null Count   Dtype         \n---  ------                 --------------   -----         \n 0   VendorID               100000 non-null  int64         \n 1   tpep_pickup_datetime   100000 non-null  datetime64[ns]\n 2   tpep_dropoff_datetime  100000 non-null  datetime64[ns]\n 3   passenger_count        100000 non-null  int64         \n 4   trip_distance          100000 non-null  float64       \n 5   pickup_longitude       100000 non-null  float64       \n 6   pickup_latitude        100000 non-null  float64       \n 7   RatecodeID             100000 non-null  int64         \n 8   store_and_fwd_flag     100000 non-null  object        \n 9   dropoff_longitude      100000 non-null  float64       \n 10  dropoff_latitude       100000 non-null  float64       \n 11  payment_type           100000 non-null  int64         \n 12  fare_amount            100000 non-null  float64       \n 13  extra                  100000 non-null  float64       \n 14  mta_tax                100000 non-null  float64       \n 15  tip_amount             100000 non-null  float64       \n 16  tolls_amount           100000 non-null  float64       \n 17  improvement_surcharge  100000 non-null  float64       \n 18  total_amount           100000 non-null  float64       \ndtypes: datetime64[ns](2), float64(12), int64(4), object(1)\nmemory usage: 14.1+ MB\n",
          "output_type": "stream"
        }
      ],
      "execution_count": 5
    },
    {
      "cell_type": "code",
      "source": "datetime_dim = df[['tpep_pickup_datetime','tpep_dropoff_datetime']].drop_duplicates().reset_index(drop=True)\ndatetime_dim['pick_hour'] = datetime_dim['tpep_pickup_datetime'].dt.hour\ndatetime_dim['pick_day'] = datetime_dim['tpep_pickup_datetime'].dt.day\ndatetime_dim['pick_month'] = datetime_dim['tpep_pickup_datetime'].dt.month\ndatetime_dim['pick_year'] = datetime_dim['tpep_pickup_datetime'].dt.year\ndatetime_dim['pick_weekday'] = datetime_dim['tpep_pickup_datetime'].dt.weekday\n\ndatetime_dim['drop_hour'] = datetime_dim['tpep_dropoff_datetime'].dt.hour\ndatetime_dim['drop_day'] = datetime_dim['tpep_dropoff_datetime'].dt.day\ndatetime_dim['drop_month'] = datetime_dim['tpep_dropoff_datetime'].dt.month\ndatetime_dim['drop_year'] = datetime_dim['tpep_dropoff_datetime'].dt.year\ndatetime_dim['drop_weekday'] = datetime_dim['tpep_dropoff_datetime'].dt.weekday",
      "metadata": {
        "trusted": true
      },
      "outputs": [],
      "execution_count": 6
    },
    {
      "cell_type": "code",
      "source": "datetime_dim['datetime_id'] = datetime_dim.index\ndatetime_dim = datetime_dim[['datetime_id', 'tpep_pickup_datetime', 'pick_hour', 'pick_day', 'pick_month', 'pick_year', 'pick_weekday',\n                             'tpep_dropoff_datetime', 'drop_hour', 'drop_day', 'drop_month', 'drop_year', 'drop_weekday']]\n",
      "metadata": {
        "trusted": true
      },
      "outputs": [],
      "execution_count": 7
    },
    {
      "cell_type": "code",
      "source": "datetime_dim\n",
      "metadata": {
        "trusted": true
      },
      "outputs": [
        {
          "execution_count": 8,
          "output_type": "execute_result",
          "data": {
            "text/plain": "       datetime_id tpep_pickup_datetime  pick_hour  pick_day  pick_month  \\\n0                0  2016-03-01 00:00:00          0         1           3   \n1                1  2016-03-01 00:00:00          0         1           3   \n2                2  2016-03-01 00:00:00          0         1           3   \n3                3  2016-03-01 00:00:00          0         1           3   \n4                4  2016-03-01 00:00:01          0         1           3   \n...            ...                  ...        ...       ...         ...   \n99848        99848  2016-03-01 06:17:10          6         1           3   \n99849        99849  2016-03-01 06:17:10          6         1           3   \n99850        99850  2016-03-01 06:17:10          6         1           3   \n99851        99851  2016-03-01 06:17:10          6         1           3   \n99852        99852  2016-03-01 06:17:11          6         1           3   \n\n       pick_year  pick_weekday tpep_dropoff_datetime  drop_hour  drop_day  \\\n0           2016             1   2016-03-01 00:07:55          0         1   \n1           2016             1   2016-03-01 00:11:06          0         1   \n2           2016             1   2016-03-01 00:31:06          0         1   \n3           2016             1   2016-03-01 00:00:00          0         1   \n4           2016             1   2016-03-01 00:16:04          0         1   \n...          ...           ...                   ...        ...       ...   \n99848       2016             1   2016-03-01 06:22:15          6         1   \n99849       2016             1   2016-03-01 06:32:41          6         1   \n99850       2016             1   2016-03-01 06:37:23          6         1   \n99851       2016             1   2016-03-01 06:22:09          6         1   \n99852       2016             1   2016-03-01 06:22:00          6         1   \n\n       drop_month  drop_year  drop_weekday  \n0               3       2016             1  \n1               3       2016             1  \n2               3       2016             1  \n3               3       2016             1  \n4               3       2016             1  \n...           ...        ...           ...  \n99848           3       2016             1  \n99849           3       2016             1  \n99850           3       2016             1  \n99851           3       2016             1  \n99852           3       2016             1  \n\n[99853 rows x 13 columns]",
            "text/html": "<div>\n<style scoped>\n    .dataframe tbody tr th:only-of-type {\n        vertical-align: middle;\n    }\n\n    .dataframe tbody tr th {\n        vertical-align: top;\n    }\n\n    .dataframe thead th {\n        text-align: right;\n    }\n</style>\n<table border=\"1\" class=\"dataframe\">\n  <thead>\n    <tr style=\"text-align: right;\">\n      <th></th>\n      <th>datetime_id</th>\n      <th>tpep_pickup_datetime</th>\n      <th>pick_hour</th>\n      <th>pick_day</th>\n      <th>pick_month</th>\n      <th>pick_year</th>\n      <th>pick_weekday</th>\n      <th>tpep_dropoff_datetime</th>\n      <th>drop_hour</th>\n      <th>drop_day</th>\n      <th>drop_month</th>\n      <th>drop_year</th>\n      <th>drop_weekday</th>\n    </tr>\n  </thead>\n  <tbody>\n    <tr>\n      <th>0</th>\n      <td>0</td>\n      <td>2016-03-01 00:00:00</td>\n      <td>0</td>\n      <td>1</td>\n      <td>3</td>\n      <td>2016</td>\n      <td>1</td>\n      <td>2016-03-01 00:07:55</td>\n      <td>0</td>\n      <td>1</td>\n      <td>3</td>\n      <td>2016</td>\n      <td>1</td>\n    </tr>\n    <tr>\n      <th>1</th>\n      <td>1</td>\n      <td>2016-03-01 00:00:00</td>\n      <td>0</td>\n      <td>1</td>\n      <td>3</td>\n      <td>2016</td>\n      <td>1</td>\n      <td>2016-03-01 00:11:06</td>\n      <td>0</td>\n      <td>1</td>\n      <td>3</td>\n      <td>2016</td>\n      <td>1</td>\n    </tr>\n    <tr>\n      <th>2</th>\n      <td>2</td>\n      <td>2016-03-01 00:00:00</td>\n      <td>0</td>\n      <td>1</td>\n      <td>3</td>\n      <td>2016</td>\n      <td>1</td>\n      <td>2016-03-01 00:31:06</td>\n      <td>0</td>\n      <td>1</td>\n      <td>3</td>\n      <td>2016</td>\n      <td>1</td>\n    </tr>\n    <tr>\n      <th>3</th>\n      <td>3</td>\n      <td>2016-03-01 00:00:00</td>\n      <td>0</td>\n      <td>1</td>\n      <td>3</td>\n      <td>2016</td>\n      <td>1</td>\n      <td>2016-03-01 00:00:00</td>\n      <td>0</td>\n      <td>1</td>\n      <td>3</td>\n      <td>2016</td>\n      <td>1</td>\n    </tr>\n    <tr>\n      <th>4</th>\n      <td>4</td>\n      <td>2016-03-01 00:00:01</td>\n      <td>0</td>\n      <td>1</td>\n      <td>3</td>\n      <td>2016</td>\n      <td>1</td>\n      <td>2016-03-01 00:16:04</td>\n      <td>0</td>\n      <td>1</td>\n      <td>3</td>\n      <td>2016</td>\n      <td>1</td>\n    </tr>\n    <tr>\n      <th>...</th>\n      <td>...</td>\n      <td>...</td>\n      <td>...</td>\n      <td>...</td>\n      <td>...</td>\n      <td>...</td>\n      <td>...</td>\n      <td>...</td>\n      <td>...</td>\n      <td>...</td>\n      <td>...</td>\n      <td>...</td>\n      <td>...</td>\n    </tr>\n    <tr>\n      <th>99848</th>\n      <td>99848</td>\n      <td>2016-03-01 06:17:10</td>\n      <td>6</td>\n      <td>1</td>\n      <td>3</td>\n      <td>2016</td>\n      <td>1</td>\n      <td>2016-03-01 06:22:15</td>\n      <td>6</td>\n      <td>1</td>\n      <td>3</td>\n      <td>2016</td>\n      <td>1</td>\n    </tr>\n    <tr>\n      <th>99849</th>\n      <td>99849</td>\n      <td>2016-03-01 06:17:10</td>\n      <td>6</td>\n      <td>1</td>\n      <td>3</td>\n      <td>2016</td>\n      <td>1</td>\n      <td>2016-03-01 06:32:41</td>\n      <td>6</td>\n      <td>1</td>\n      <td>3</td>\n      <td>2016</td>\n      <td>1</td>\n    </tr>\n    <tr>\n      <th>99850</th>\n      <td>99850</td>\n      <td>2016-03-01 06:17:10</td>\n      <td>6</td>\n      <td>1</td>\n      <td>3</td>\n      <td>2016</td>\n      <td>1</td>\n      <td>2016-03-01 06:37:23</td>\n      <td>6</td>\n      <td>1</td>\n      <td>3</td>\n      <td>2016</td>\n      <td>1</td>\n    </tr>\n    <tr>\n      <th>99851</th>\n      <td>99851</td>\n      <td>2016-03-01 06:17:10</td>\n      <td>6</td>\n      <td>1</td>\n      <td>3</td>\n      <td>2016</td>\n      <td>1</td>\n      <td>2016-03-01 06:22:09</td>\n      <td>6</td>\n      <td>1</td>\n      <td>3</td>\n      <td>2016</td>\n      <td>1</td>\n    </tr>\n    <tr>\n      <th>99852</th>\n      <td>99852</td>\n      <td>2016-03-01 06:17:11</td>\n      <td>6</td>\n      <td>1</td>\n      <td>3</td>\n      <td>2016</td>\n      <td>1</td>\n      <td>2016-03-01 06:22:00</td>\n      <td>6</td>\n      <td>1</td>\n      <td>3</td>\n      <td>2016</td>\n      <td>1</td>\n    </tr>\n  </tbody>\n</table>\n<p>99853 rows × 13 columns</p>\n</div>"
          },
          "metadata": {}
        }
      ],
      "execution_count": 8
    },
    {
      "cell_type": "code",
      "source": "passenger_count_dim = df[['passenger_count']].drop_duplicates().reset_index(drop=True)\npassenger_count_dim['passenger_count_id'] = passenger_count_dim.index\npassenger_count_dim = passenger_count_dim[['passenger_count_id','passenger_count']]\n\npassenger_count_dim.head()\n",
      "metadata": {
        "trusted": true
      },
      "outputs": [
        {
          "execution_count": 9,
          "output_type": "execute_result",
          "data": {
            "text/plain": "   passenger_count_id  passenger_count\n0                   0                1\n1                   1                2\n2                   2                3\n3                   3                5\n4                   4                6",
            "text/html": "<div>\n<style scoped>\n    .dataframe tbody tr th:only-of-type {\n        vertical-align: middle;\n    }\n\n    .dataframe tbody tr th {\n        vertical-align: top;\n    }\n\n    .dataframe thead th {\n        text-align: right;\n    }\n</style>\n<table border=\"1\" class=\"dataframe\">\n  <thead>\n    <tr style=\"text-align: right;\">\n      <th></th>\n      <th>passenger_count_id</th>\n      <th>passenger_count</th>\n    </tr>\n  </thead>\n  <tbody>\n    <tr>\n      <th>0</th>\n      <td>0</td>\n      <td>1</td>\n    </tr>\n    <tr>\n      <th>1</th>\n      <td>1</td>\n      <td>2</td>\n    </tr>\n    <tr>\n      <th>2</th>\n      <td>2</td>\n      <td>3</td>\n    </tr>\n    <tr>\n      <th>3</th>\n      <td>3</td>\n      <td>5</td>\n    </tr>\n    <tr>\n      <th>4</th>\n      <td>4</td>\n      <td>6</td>\n    </tr>\n  </tbody>\n</table>\n</div>"
          },
          "metadata": {}
        }
      ],
      "execution_count": 9
    },
    {
      "cell_type": "code",
      "source": "trip_distance_dim = df[['trip_distance']].drop_duplicates().reset_index(drop=True)\ntrip_distance_dim['trip_distance_id'] = trip_distance_dim.index\ntrip_distance_dim = trip_distance_dim[['trip_distance_id','trip_distance']]\n\ntrip_distance_dim.head()\n",
      "metadata": {
        "trusted": true
      },
      "outputs": [
        {
          "execution_count": 10,
          "output_type": "execute_result",
          "data": {
            "text/plain": "   trip_distance_id  trip_distance\n0                 0           2.50\n1                 1           2.90\n2                 2          19.98\n3                 3          10.78\n4                 4          30.43",
            "text/html": "<div>\n<style scoped>\n    .dataframe tbody tr th:only-of-type {\n        vertical-align: middle;\n    }\n\n    .dataframe tbody tr th {\n        vertical-align: top;\n    }\n\n    .dataframe thead th {\n        text-align: right;\n    }\n</style>\n<table border=\"1\" class=\"dataframe\">\n  <thead>\n    <tr style=\"text-align: right;\">\n      <th></th>\n      <th>trip_distance_id</th>\n      <th>trip_distance</th>\n    </tr>\n  </thead>\n  <tbody>\n    <tr>\n      <th>0</th>\n      <td>0</td>\n      <td>2.50</td>\n    </tr>\n    <tr>\n      <th>1</th>\n      <td>1</td>\n      <td>2.90</td>\n    </tr>\n    <tr>\n      <th>2</th>\n      <td>2</td>\n      <td>19.98</td>\n    </tr>\n    <tr>\n      <th>3</th>\n      <td>3</td>\n      <td>10.78</td>\n    </tr>\n    <tr>\n      <th>4</th>\n      <td>4</td>\n      <td>30.43</td>\n    </tr>\n  </tbody>\n</table>\n</div>"
          },
          "metadata": {}
        }
      ],
      "execution_count": 10
    },
    {
      "cell_type": "code",
      "source": "rate_code_type = {\n    1:\"Standard rate\",\n    2:\"JFK\",\n    3:\"Newark\",\n    4:\"Nassau or Westchester\",\n    5:\"Negotiated fare\",\n    6:\"Group ride\"\n}\n\nrate_code_dim = df[['RatecodeID']].drop_duplicates().reset_index(drop=True)\nrate_code_dim['rate_code_id'] = rate_code_dim.index\nrate_code_dim['rate_code_name'] = rate_code_dim['RatecodeID'].map(rate_code_type)\nrate_code_dim = rate_code_dim[['rate_code_id','RatecodeID','rate_code_name']]",
      "metadata": {
        "trusted": true
      },
      "outputs": [],
      "execution_count": 11
    },
    {
      "cell_type": "code",
      "source": "rate_code_dim.head()\n",
      "metadata": {
        "trusted": true
      },
      "outputs": [
        {
          "execution_count": 12,
          "output_type": "execute_result",
          "data": {
            "text/plain": "   rate_code_id  RatecodeID         rate_code_name\n0             0           1          Standard rate\n1             1           3                 Newark\n2             2           2                    JFK\n3             3           5        Negotiated fare\n4             4           4  Nassau or Westchester",
            "text/html": "<div>\n<style scoped>\n    .dataframe tbody tr th:only-of-type {\n        vertical-align: middle;\n    }\n\n    .dataframe tbody tr th {\n        vertical-align: top;\n    }\n\n    .dataframe thead th {\n        text-align: right;\n    }\n</style>\n<table border=\"1\" class=\"dataframe\">\n  <thead>\n    <tr style=\"text-align: right;\">\n      <th></th>\n      <th>rate_code_id</th>\n      <th>RatecodeID</th>\n      <th>rate_code_name</th>\n    </tr>\n  </thead>\n  <tbody>\n    <tr>\n      <th>0</th>\n      <td>0</td>\n      <td>1</td>\n      <td>Standard rate</td>\n    </tr>\n    <tr>\n      <th>1</th>\n      <td>1</td>\n      <td>3</td>\n      <td>Newark</td>\n    </tr>\n    <tr>\n      <th>2</th>\n      <td>2</td>\n      <td>2</td>\n      <td>JFK</td>\n    </tr>\n    <tr>\n      <th>3</th>\n      <td>3</td>\n      <td>5</td>\n      <td>Negotiated fare</td>\n    </tr>\n    <tr>\n      <th>4</th>\n      <td>4</td>\n      <td>4</td>\n      <td>Nassau or Westchester</td>\n    </tr>\n  </tbody>\n</table>\n</div>"
          },
          "metadata": {}
        }
      ],
      "execution_count": 12
    },
    {
      "cell_type": "code",
      "source": "pickup_location_dim = df[['pickup_longitude', 'pickup_latitude']].drop_duplicates().reset_index(drop=True)\npickup_location_dim['pickup_location_id'] = pickup_location_dim.index\npickup_location_dim = pickup_location_dim[['pickup_location_id','pickup_latitude','pickup_longitude']] \n\n\ndropoff_location_dim = df[['dropoff_longitude', 'dropoff_latitude']].drop_duplicates().reset_index(drop=True)\ndropoff_location_dim['dropoff_location_id'] = dropoff_location_dim.index\ndropoff_location_dim = dropoff_location_dim[['dropoff_location_id','dropoff_latitude','dropoff_longitude']]\n",
      "metadata": {
        "trusted": true
      },
      "outputs": [],
      "execution_count": 13
    },
    {
      "cell_type": "code",
      "source": "payment_type_name = {\n    1:\"Credit card\",\n    2:\"Cash\",\n    3:\"No charge\",\n    4:\"Dispute\",\n    5:\"Unknown\",\n    6:\"Voided trip\"\n}\npayment_type_dim = df[['payment_type']].drop_duplicates().reset_index(drop=True)\npayment_type_dim['payment_type_id'] = payment_type_dim.index\npayment_type_dim['payment_type_name'] = payment_type_dim['payment_type'].map(payment_type_name)\npayment_type_dim = payment_type_dim[['payment_type_id','payment_type','payment_type_name']]\npayment_type_dim.head()",
      "metadata": {
        "trusted": true
      },
      "outputs": [
        {
          "execution_count": 14,
          "output_type": "execute_result",
          "data": {
            "text/plain": "   payment_type_id  payment_type payment_type_name\n0                0             1       Credit card\n1                1             2              Cash\n2                2             3         No charge\n3                3             4           Dispute",
            "text/html": "<div>\n<style scoped>\n    .dataframe tbody tr th:only-of-type {\n        vertical-align: middle;\n    }\n\n    .dataframe tbody tr th {\n        vertical-align: top;\n    }\n\n    .dataframe thead th {\n        text-align: right;\n    }\n</style>\n<table border=\"1\" class=\"dataframe\">\n  <thead>\n    <tr style=\"text-align: right;\">\n      <th></th>\n      <th>payment_type_id</th>\n      <th>payment_type</th>\n      <th>payment_type_name</th>\n    </tr>\n  </thead>\n  <tbody>\n    <tr>\n      <th>0</th>\n      <td>0</td>\n      <td>1</td>\n      <td>Credit card</td>\n    </tr>\n    <tr>\n      <th>1</th>\n      <td>1</td>\n      <td>2</td>\n      <td>Cash</td>\n    </tr>\n    <tr>\n      <th>2</th>\n      <td>2</td>\n      <td>3</td>\n      <td>No charge</td>\n    </tr>\n    <tr>\n      <th>3</th>\n      <td>3</td>\n      <td>4</td>\n      <td>Dispute</td>\n    </tr>\n  </tbody>\n</table>\n</div>"
          },
          "metadata": {}
        }
      ],
      "execution_count": 14
    },
    {
      "cell_type": "code",
      "source": "fact_table = df.merge(passenger_count_dim, on='passenger_count') \\\n             .merge(trip_distance_dim, on='trip_distance') \\\n             .merge(rate_code_dim, on='RatecodeID') \\\n             .merge(pickup_location_dim, on=['pickup_longitude', 'pickup_latitude']) \\\n             .merge(dropoff_location_dim, on=['dropoff_longitude', 'dropoff_latitude'])\\\n             .merge(datetime_dim, on=['tpep_pickup_datetime','tpep_dropoff_datetime']) \\\n             .merge(payment_type_dim, on='payment_type') \\\n             [['VendorID', 'datetime_id', 'passenger_count_id',\n               'trip_distance_id', 'rate_code_id', 'store_and_fwd_flag', 'pickup_location_id', 'dropoff_location_id',\n               'payment_type_id', 'fare_amount', 'extra', 'mta_tax', 'tip_amount', 'tolls_amount',\n               'improvement_surcharge', 'total_amount']]",
      "metadata": {
        "trusted": true
      },
      "outputs": [],
      "execution_count": 15
    },
    {
      "cell_type": "code",
      "source": "fact_table",
      "metadata": {
        "trusted": true
      },
      "outputs": [
        {
          "execution_count": 17,
          "output_type": "execute_result",
          "data": {
            "text/plain": "       VendorID  datetime_id  passenger_count_id  trip_distance_id  \\\n0             1            0                   0                 0   \n1             2         1491                   0                 0   \n2             2         2834                   0                 0   \n3             2         3488                   0                 0   \n4             2         3923                   0                 0   \n...         ...          ...                 ...               ...   \n99995         1        65943                   0               257   \n99996         1        81651                   0               257   \n99997         2        87152                   4               257   \n99998         2        53874                   4              1060   \n99999         1        88727                   0              1894   \n\n       rate_code_id store_and_fwd_flag  pickup_location_id  \\\n0                 0                  N                   0   \n1                 0                  N                1481   \n2                 0                  N                2816   \n3                 0                  N                3465   \n4                 0                  N                3899   \n...             ...                ...                 ...   \n99995             3                  N               64896   \n99996             3                  N               80276   \n99997             1                  N               85670   \n99998             1                  N               53081   \n99999             1                  N               87206   \n\n       dropoff_location_id  payment_type_id  fare_amount  extra  mta_tax  \\\n0                        0                0          9.0    0.5      0.5   \n1                     1484                0         10.5    0.0      0.5   \n2                     2819                0          9.5    0.0      0.5   \n3                     3470                0         13.5    0.0      0.5   \n4                     3903                0         10.5    0.0      0.5   \n...                    ...              ...          ...    ...      ...   \n99995                65105                3        170.0    0.0      0.0   \n99996                80547                3         10.0    0.0      0.0   \n99997                85971                3        -20.0   -0.5      0.0   \n99998                53222                3        -25.5    0.0      0.0   \n99999                87511                3         70.5    0.5      0.0   \n\n       tip_amount  tolls_amount  improvement_surcharge  total_amount  \n0            2.05           0.0                    0.3         12.35  \n1            2.26           0.0                    0.3         13.56  \n2            1.25           0.0                    0.3         11.55  \n3            2.00           0.0                    0.3         16.30  \n4            2.26           0.0                    0.3         13.56  \n...           ...           ...                    ...           ...  \n99995        0.00           0.0                    0.3        170.30  \n99996        0.00           0.0                    0.3         10.30  \n99997        0.00           0.0                   -0.3        -20.80  \n99998        0.00           0.0                   -0.3        -25.80  \n99999        0.00          10.5                    0.3         81.80  \n\n[100000 rows x 16 columns]",
            "text/html": "<div>\n<style scoped>\n    .dataframe tbody tr th:only-of-type {\n        vertical-align: middle;\n    }\n\n    .dataframe tbody tr th {\n        vertical-align: top;\n    }\n\n    .dataframe thead th {\n        text-align: right;\n    }\n</style>\n<table border=\"1\" class=\"dataframe\">\n  <thead>\n    <tr style=\"text-align: right;\">\n      <th></th>\n      <th>VendorID</th>\n      <th>datetime_id</th>\n      <th>passenger_count_id</th>\n      <th>trip_distance_id</th>\n      <th>rate_code_id</th>\n      <th>store_and_fwd_flag</th>\n      <th>pickup_location_id</th>\n      <th>dropoff_location_id</th>\n      <th>payment_type_id</th>\n      <th>fare_amount</th>\n      <th>extra</th>\n      <th>mta_tax</th>\n      <th>tip_amount</th>\n      <th>tolls_amount</th>\n      <th>improvement_surcharge</th>\n      <th>total_amount</th>\n    </tr>\n  </thead>\n  <tbody>\n    <tr>\n      <th>0</th>\n      <td>1</td>\n      <td>0</td>\n      <td>0</td>\n      <td>0</td>\n      <td>0</td>\n      <td>N</td>\n      <td>0</td>\n      <td>0</td>\n      <td>0</td>\n      <td>9.0</td>\n      <td>0.5</td>\n      <td>0.5</td>\n      <td>2.05</td>\n      <td>0.0</td>\n      <td>0.3</td>\n      <td>12.35</td>\n    </tr>\n    <tr>\n      <th>1</th>\n      <td>2</td>\n      <td>1491</td>\n      <td>0</td>\n      <td>0</td>\n      <td>0</td>\n      <td>N</td>\n      <td>1481</td>\n      <td>1484</td>\n      <td>0</td>\n      <td>10.5</td>\n      <td>0.0</td>\n      <td>0.5</td>\n      <td>2.26</td>\n      <td>0.0</td>\n      <td>0.3</td>\n      <td>13.56</td>\n    </tr>\n    <tr>\n      <th>2</th>\n      <td>2</td>\n      <td>2834</td>\n      <td>0</td>\n      <td>0</td>\n      <td>0</td>\n      <td>N</td>\n      <td>2816</td>\n      <td>2819</td>\n      <td>0</td>\n      <td>9.5</td>\n      <td>0.0</td>\n      <td>0.5</td>\n      <td>1.25</td>\n      <td>0.0</td>\n      <td>0.3</td>\n      <td>11.55</td>\n    </tr>\n    <tr>\n      <th>3</th>\n      <td>2</td>\n      <td>3488</td>\n      <td>0</td>\n      <td>0</td>\n      <td>0</td>\n      <td>N</td>\n      <td>3465</td>\n      <td>3470</td>\n      <td>0</td>\n      <td>13.5</td>\n      <td>0.0</td>\n      <td>0.5</td>\n      <td>2.00</td>\n      <td>0.0</td>\n      <td>0.3</td>\n      <td>16.30</td>\n    </tr>\n    <tr>\n      <th>4</th>\n      <td>2</td>\n      <td>3923</td>\n      <td>0</td>\n      <td>0</td>\n      <td>0</td>\n      <td>N</td>\n      <td>3899</td>\n      <td>3903</td>\n      <td>0</td>\n      <td>10.5</td>\n      <td>0.0</td>\n      <td>0.5</td>\n      <td>2.26</td>\n      <td>0.0</td>\n      <td>0.3</td>\n      <td>13.56</td>\n    </tr>\n    <tr>\n      <th>...</th>\n      <td>...</td>\n      <td>...</td>\n      <td>...</td>\n      <td>...</td>\n      <td>...</td>\n      <td>...</td>\n      <td>...</td>\n      <td>...</td>\n      <td>...</td>\n      <td>...</td>\n      <td>...</td>\n      <td>...</td>\n      <td>...</td>\n      <td>...</td>\n      <td>...</td>\n      <td>...</td>\n    </tr>\n    <tr>\n      <th>99995</th>\n      <td>1</td>\n      <td>65943</td>\n      <td>0</td>\n      <td>257</td>\n      <td>3</td>\n      <td>N</td>\n      <td>64896</td>\n      <td>65105</td>\n      <td>3</td>\n      <td>170.0</td>\n      <td>0.0</td>\n      <td>0.0</td>\n      <td>0.00</td>\n      <td>0.0</td>\n      <td>0.3</td>\n      <td>170.30</td>\n    </tr>\n    <tr>\n      <th>99996</th>\n      <td>1</td>\n      <td>81651</td>\n      <td>0</td>\n      <td>257</td>\n      <td>3</td>\n      <td>N</td>\n      <td>80276</td>\n      <td>80547</td>\n      <td>3</td>\n      <td>10.0</td>\n      <td>0.0</td>\n      <td>0.0</td>\n      <td>0.00</td>\n      <td>0.0</td>\n      <td>0.3</td>\n      <td>10.30</td>\n    </tr>\n    <tr>\n      <th>99997</th>\n      <td>2</td>\n      <td>87152</td>\n      <td>4</td>\n      <td>257</td>\n      <td>1</td>\n      <td>N</td>\n      <td>85670</td>\n      <td>85971</td>\n      <td>3</td>\n      <td>-20.0</td>\n      <td>-0.5</td>\n      <td>0.0</td>\n      <td>0.00</td>\n      <td>0.0</td>\n      <td>-0.3</td>\n      <td>-20.80</td>\n    </tr>\n    <tr>\n      <th>99998</th>\n      <td>2</td>\n      <td>53874</td>\n      <td>4</td>\n      <td>1060</td>\n      <td>1</td>\n      <td>N</td>\n      <td>53081</td>\n      <td>53222</td>\n      <td>3</td>\n      <td>-25.5</td>\n      <td>0.0</td>\n      <td>0.0</td>\n      <td>0.00</td>\n      <td>0.0</td>\n      <td>-0.3</td>\n      <td>-25.80</td>\n    </tr>\n    <tr>\n      <th>99999</th>\n      <td>1</td>\n      <td>88727</td>\n      <td>0</td>\n      <td>1894</td>\n      <td>1</td>\n      <td>N</td>\n      <td>87206</td>\n      <td>87511</td>\n      <td>3</td>\n      <td>70.5</td>\n      <td>0.5</td>\n      <td>0.0</td>\n      <td>0.00</td>\n      <td>10.5</td>\n      <td>0.3</td>\n      <td>81.80</td>\n    </tr>\n  </tbody>\n</table>\n<p>100000 rows × 16 columns</p>\n</div>"
          },
          "metadata": {}
        }
      ],
      "execution_count": 17
    },
    {
      "cell_type": "code",
      "source": "",
      "metadata": {
        "trusted": true
      },
      "outputs": [],
      "execution_count": null
    }
  ]
}